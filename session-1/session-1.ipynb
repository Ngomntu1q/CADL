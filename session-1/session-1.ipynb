{
 "cells": [
  {
   "cell_type": "markdown",
   "metadata": {},
   "source": [
    "# Session 1 - Introduction to Tensorflow\n",
    "<p class=\"lead\">\n",
    "Assignment: Creating a Dataset/Computing with Tensorflow\n",
    "</p>\n",
    "\n",
    "<p class=\"lead\">\n",
    "Parag K. Mital<br />\n",
    "<a href=\"https://www.kadenze.com/courses/creative-applications-of-deep-learning-with-tensorflow/info\">Creative Applications of Deep Learning w/ Tensorflow</a><br />\n",
    "<a href=\"https://www.kadenze.com/partners/kadenze-academy\">Kadenze Academy</a><br />\n",
    "<a href=\"https://twitter.com/hashtag/CADL\">#CADL</a>\n",
    "</p>\n",
    "\n",
    "This work is licensed under a <a rel=\"license\" href=\"http://creativecommons.org/licenses/by-nc-sa/4.0/\">Creative Commons Attribution-NonCommercial-ShareAlike 4.0 International License</a>."
   ]
  },
  {
   "cell_type": "markdown",
   "metadata": {},
   "source": [
    "# Learning Goals\n",
    "\n",
    "* Learn the importance of a dataset by creating one of your own\n",
    "* Learn how to calculate the mean/std. deviation of them using tensorflow operations\n",
    "* Explore what representations exist in your dataset."
   ]
  },
  {
   "cell_type": "markdown",
   "metadata": {},
   "source": [
    "# Outline\n",
    "\n",
    "<!-- MarkdownTOC autolink=true autoanchor=true bracket=round -->\n",
    "\n",
    "- [Assignment Synopsis](#assignment-synopsis)\n",
    "- [Part One - Create a Small Dataset](#part-one---create-a-small-dataset)\n",
    "  - [Instructions](#instructions)\n",
    "  - [Code](#code)\n",
    "- [Part Two - Compute the Mean](#part-two---compute-the-mean)\n",
    "  - [Instructions](#instructions-1)\n",
    "  - [Code](#code-1)\n",
    "- [Part Three - Compute the Standard Deviation](#part-three---compute-the-standard-deviation)\n",
    "  - [Instructions](#instructions-2)\n",
    "  - [Code](#code-2)\n",
    "- [Part Four - Sort the Dataset](#part-four---sort-the-dataset)\n",
    "  - [Instructions](#instructions-3)\n",
    "  - [Code](#code-3)\n",
    "- [Assignment Submission](#assignment-submission)\n",
    "\n",
    "<!-- /MarkdownTOC -->"
   ]
  },
  {
   "cell_type": "markdown",
   "metadata": {},
   "source": [
    "<h1>Notebook</h1>\n",
    "\n",
    "Everything you will need to do will be inside of this notebook, and I've marked which cells you will need to edit by saying <b><font color='red'>\"TODO! COMPLETE THIS SECTION!\"</font></b>.  For you to work with this notebook, you'll either download the zip file from the resources section on Kadenze or clone the github repo (whichever you are more comfortable with), and then run notebook inside the same directory as wherever this file is located using the command line \"jupyter notebook\" or \"ipython notbeook\" (using Terminal on Unix/Linux/OSX, or Command Line/Shell/Powershell on Windows).  If you are unfamiliar with jupyter notebook, please look at \"Session 0\" to be sure you have all the necessary libraries and notebook installed.\n",
    "\n",
    "Once you have launched notebook, this will launch a web browser with the contents of the zip files listed.  Click the file \"session-1.ipynb\" and this document will open in an interactive notebook, allowing you to \"run\" the cells, computing them using python, and edit the text inside the cells."
   ]
  },
  {
   "cell_type": "markdown",
   "metadata": {},
   "source": [
    "<a name=\"assignment-synopsis\"></a>\n",
    "# Assignment Synopsis\n",
    "\n",
    "This first homework assignment will guide you through working with a small dataset of images.  For Part 1, you'll need to find 100 images and use the function I've provided to create a montage of your images, saving it to the file \"dataset.png\" (template code provided below).  You can load an existing dataset of images, find your own images, or perhaps create your own images using a creative process such as painting, photography, or something along those lines.  Each image will be reshaped to 100 x 100 pixels.  There needs to be at least 100 images.  For Parts 2 and 3, you'll then calculate the mean and deviation of it using a tensorflow session.  For Part 4, you'll need to sort the entire dataset based on its color values or find another method of sorting them.  Finally, the last part will package everything for you in a zip file which you can upload to Kadenze to get assessed (only if you are a Kadenze Premium member, $10 p/m, free for the first month).  Remember to complete the additional excercises online, including the Gallery participation and the Forum post.  If you have any questions, be sure to enroll in the course and ask your peers in the \\#CADL community or me on the forums!\n",
    "\n",
    "https://www.kadenze.com/courses/creative-applications-of-deep-learning-with-tensorflow/info\n",
    "\n",
    "The following assignment breakdown gives more detailed instructions and includes template code for you to fill out.  Good luck!"
   ]
  },
  {
   "cell_type": "markdown",
   "metadata": {},
   "source": [
    "<a name=\"part-one---create-a-small-dataset\"></a>\n",
    "# Part One - Create a Small Dataset\n",
    "\n",
    "<a name=\"instructions\"></a>\n",
    "## Instructions\n",
    "\n",
    "Use Python, Numpy, and Matplotlib to load a dataset of 100 images and create a montage of the dataset as a 10 x 10 image using the function below. You'll need to make sure you call the function using a 4-d array of `N x H x W x C` dimensions, meaning every image will need to be the same size! You can load an existing dataset of images, find your own images, or perhaps create your own images using a creative process such as painting, photography, or something along those lines.\n",
    "\n",
    "When you are creating your dataset, I want you to think about what representations might exist in the limited amount of data that you are organizing.  It is only 100 images after all, not a whole lot for a computer to reason about and learn something meaningful.  So <b>think about creating a *dataset* of images that could possibly reveal something fundamental about what is contained in the images</b>.  Try to think about creating a set of images that represents something.  For instance, this might be images of yourself over time.  Or it might be every picture you've ever taken of your cat.  Or perhaps the view from your room at different times of the day.  Consider making the changes within each image as significant as possible.  Hopefully by the end of this lesson, you'll understand a little better the difference between what a computer thinks is significant and what you yourself thought was significant.\n",
    "\n",
    "The code below will show you how to resize and/or crop your images so that they are 100 pixels x 100 pixels in height and width.  Once you have 100 images loaded, we'll use a `montage` function to draw and save your dataset to the file <b>dataset.png</b>."
   ]
  },
  {
   "cell_type": "markdown",
   "metadata": {},
   "source": [
    "<a name=\"code\"></a>\n",
    "## Code\n",
    "\n",
    "This next section will just make sure you have the right version of python and the libraries that we'll be using.  Don't change the code here but make sure you \"run\" it (use \"shift+enter\")!"
   ]
  },
  {
   "cell_type": "code",
   "execution_count": null,
   "metadata": {
    "collapsed": true
   },
   "outputs": [],
   "source": [
    "# First check the Python version\n",
    "import sys\n",
    "if sys.version_info < (3,4):\n",
    "    print('You are running an older version of Python!\\n\\n' \\\n",
    "          'You should consider updating to Python 3.4.0 or ' \\\n",
    "          'higher as the libraries built for this course ' \\\n",
    "          'have only been tested in Python 3.4 and higher.\\n')\n",
    "    print('Try installing the Python 3.5 version of anaconda '\n",
    "          'and then restart `jupyter notebook`:\\n' \\\n",
    "          'https://www.continuum.io/downloads\\n\\n')\n",
    "\n",
    "# Now get necessary libraries\n",
    "try:\n",
    "    import os\n",
    "    import numpy as np\n",
    "    import matplotlib.pyplot as plt\n",
    "    from skimage.transform import resize\n",
    "except ImportError:\n",
    "    print('You are missing some packages! ' \\\n",
    "          'We will try installing them before continuing!')\n",
    "    !pip install \"numpy>=1.11.0\" \"matplotlib>=1.5.1\" \"scikit-image>=0.11.3\" \"scikit-learn>=0.17\"\n",
    "    import os\n",
    "    import numpy as np\n",
    "    import matplotlib.pyplot as plt\n",
    "    from skimage.transform import resize\n",
    "    print('Done!')"
   ]
  },
  {
   "cell_type": "code",
   "execution_count": null,
   "metadata": {
    "collapsed": true
   },
   "outputs": [],
   "source": [
    "# This cell includes the provided libraries from the zip file\n",
    "try:\n",
    "    from libs.utils import montage, imcrop_tosquare, build_submission\n",
    "except ImportError:\n",
    "    print(\"Make sure you have started notebook in the same directory\" +\n",
    "          \" as the provided zip file which includes the 'libs' folder\" +\n",
    "          \" and the file 'utils.py' inside of it.  You will NOT be able\"\n",
    "          \" to complete this assignment unless you restart jupyter\"\n",
    "          \" notebook inside the directory created by extracting\"\n",
    "          \" the zip file or cloning the github repo.\")"
   ]
  },
  {
   "cell_type": "code",
   "execution_count": null,
   "metadata": {
    "collapsed": true
   },
   "outputs": [],
   "source": [
    "# We'll tell matplotlib to inline any drawn figures like so:\n",
    "%matplotlib inline"
   ]
  },
  {
   "cell_type": "markdown",
   "metadata": {},
   "source": [
    "Places your images in a folder such as `dirname = '/Users/Someone/Desktop/ImagesFromTheInternet'`.  We'll then use the `os` package to load them and crop/resize them to a standard size of 100 x 100 pixels.\n",
    "\n",
    "<h3><font color='red'>TODO! COMPLETE THIS SECTION!</font></h3>"
   ]
  },
  {
   "cell_type": "code",
   "execution_count": null,
   "metadata": {
    "collapsed": true
   },
   "outputs": [],
   "source": [
    "# You need to find 100 images from the web/create them yourself\n",
    "# or find a dataset that interests you (e.g. I used celeb faces\n",
    "# in the course lecture...)\n",
    "# then store them all in a single directory.\n",
    "# With all the images in a single directory, you can then\n",
    "# perform the following steps to create a 4-d array of:\n",
    "# N x H x W x C dimensions as 100 x 100 x 100 x 3.\n",
    "\n",
    "dirname = ...\n",
    "\n",
    "# Load every file in the provided directory\n",
    "filenames = [os.path.join(dirname, fname)\n",
    "             for fname in os.listdir(dirname)\n",
    "             if os.path.join(dirname, fname).endswith('.png')]\n",
    "\n",
    "# Make sure we have exactly 100 image files!\n",
    "filenames = filenames[:100]\n",
    "assert(len(filenames) == 100)\n",
    "\n",
    "# Read every filename as an RGB image\n",
    "imgs = [plt.imread(fname)[..., :3] for fname in filenames]\n",
    "\n",
    "# Crop every image to a square\n",
    "imgs = [imcrop_tosquare(img_i) for img_i in imgs]\n",
    "\n",
    "# Then resize the square image to 100 x 100 pixels\n",
    "imgs = [resize(img_i, (100, 100)) for img_i in imgs]\n",
    "\n",
    "# Finally make our list of 3-D images a 4-D array with the first dimension the number of images:\n",
    "imgs = np.array(imgs)"
   ]
  },
  {
   "cell_type": "markdown",
   "metadata": {},
   "source": [
    "Don't change this section!"
   ]
  },
  {
   "cell_type": "code",
   "execution_count": null,
   "metadata": {
    "collapsed": true
   },
   "outputs": [],
   "source": [
    "# Plot the resulting dataset:\n",
    "# Make sure you \"run\" this cell after you create your `imgs` variable as a 4-D array!\n",
    "# Make sure we have a 100 x 100 x 100 x 3 dimension array\n",
    "assert(imgs.shape == (100, 100, 100, 3))\n",
    "plt.figure(figsize=(10, 10))\n",
    "plt.imshow(montage(imgs, saveto='dataset.png'))"
   ]
  },
  {
   "cell_type": "markdown",
   "metadata": {},
   "source": [
    "<a name=\"part-two---compute-the-mean\"></a>\n",
    "# Part Two - Compute the Mean\n",
    "\n",
    "<a name=\"instructions-1\"></a>\n",
    "## Instructions\n",
    "\n",
    "First use Tensorflow to define a session.  Then use Tensorflow to create an operation which takes your 4-d array and calculates the mean color image (100 x 100 x 3) using the function `tf.reduce_mean`.  Have a look at the documentation for this function to see how it works.  You'll then calculate the mean image by running the operation you create with your session (e.g. <code>sess.run(...)</code>).  Finally, plot the mean image, save it, and then include this image in your zip file as <b>mean.png</b>.\n",
    "\n",
    "<a name=\"code-1\"></a>\n",
    "## Code"
   ]
  },
  {
   "cell_type": "code",
   "execution_count": null,
   "metadata": {
    "collapsed": true
   },
   "outputs": [],
   "source": [
    "try:\n",
    "    import tensorflow as tf\n",
    "except ImportError:\n",
    "    print(\"You do not have tensorflow installed!\")\n",
    "    print(\"Follow the instructions on the following link\")\n",
    "    print(\"to install tensorflow before continuing:\")\n",
    "    print(\"\")\n",
    "    print(\"https://github.com/tensorflow/tensorflow/blob/master/tensorflow/g3doc/get_started/os_setup.md#pip-installation\")"
   ]
  },
  {
   "cell_type": "markdown",
   "metadata": {},
   "source": [
    "<h3><font color='red'>TODO! COMPLETE THIS SECTION!</font></h3>"
   ]
  },
  {
   "cell_type": "code",
   "execution_count": null,
   "metadata": {
    "collapsed": true
   },
   "outputs": [],
   "source": [
    "# First create a tensorflow session\n",
    "sess = ...\n",
    "\n",
    "# Now create an operation that will calculate the mean of your images\n",
    "mean_img_op = ...\n",
    "\n",
    "# And then run that operation using your session\n",
    "mean_img = sess.run(mean_img_op)"
   ]
  },
  {
   "cell_type": "markdown",
   "metadata": {},
   "source": [
    "Don't change this section!"
   ]
  },
  {
   "cell_type": "code",
   "execution_count": null,
   "metadata": {
    "collapsed": true
   },
   "outputs": [],
   "source": [
    "# Then plot the resulting mean image:\n",
    "# Make sure the mean image is the right size!\n",
    "assert(mean_img.shape == (100, 100, 3))\n",
    "plt.figure(figsize=(10, 10))\n",
    "plt.imshow(mean_img)\n",
    "plt.imsave(arr=mean_img, fname='mean.png')"
   ]
  },
  {
   "cell_type": "markdown",
   "metadata": {},
   "source": [
    "Once you have seen the mean image of your dataset, how does it relate to your own expectations of the dataset?  Did you expect something different?  Was there something more \"regular\" or \"predictable\" about your dataset that the mean image did or did not reveal?  If your mean image looks a lot like something recognizable, it's a good sign that there is a lot of predictability in your dataset.  If your mean image looks like nothing at all, a gray blob where not much seems to stand out, then it's pretty likely that there isn't very much in common between your images.  Neither is a bad scenario.  Though, it is more likely that having some predictability in your mean image, e.g. something recognizable, that there are representations worth exploring with deeper networks capable of representing them.  However, we're only using 100 images so it's a *very* small dataset to begin with."
   ]
  },
  {
   "cell_type": "markdown",
   "metadata": {},
   "source": [
    "<a name=\"part-three---compute-the-standard-deviation\"></a>\n",
    "# Part Three - Compute the Standard Deviation\n",
    "\n",
    "<a name=\"instructions-2\"></a>\n",
    "## Instructions\n",
    "\n",
    "Now use tensorflow to calculate the standard deviation and upload the standard deviation image averaged across color channels as a \"jet\" heatmap of the 100 images.  This will be a little more involved as there is no operation in tensorflow to do this for you.  However, you can do this by calculating the mean image of your dataset as a 4-D array.  To do this, you could write e.g.  `mean_img_4d = tf.reduce_mean(images, reduction_indices=0, keep_dims=True)` to give you a `1 x H x W x C` dimension array calculated on the `N x H x W x C` images variable.  The reduction_indices parameter is saying to keep the 0th dimension.  This way, you can write `images - mean_img_4d` to give you a `N x H x W x C` dimension variable, with every image in your images array having been subtracted by the `mean_img_4d`.  If you calculate the square root of the sum of the squared differences of this resulting operation, you have your standard deviation!\n",
    "\n",
    "In summary, you'll need to write something like: `subtraction = images - tf.reduce_mean(images, reduction_indices=0, keep_dims=True)`, then reduce this operation using `tf.sqrt(tf.reduce_sum(subtraction * subtraction, reduction_indices=0))` to get your standard deviation then include this image in your zip file as <b>std.png</b>\n",
    "\n",
    "<a name=\"code-2\"></a>\n",
    "## Code\n",
    "\n",
    "<h3><font color='red'>TODO! COMPLETE THIS SECTION!</font></h3>"
   ]
  },
  {
   "cell_type": "code",
   "execution_count": null,
   "metadata": {
    "collapsed": true
   },
   "outputs": [],
   "source": [
    "# Create a tensorflow operation to give you the standard deviation\n",
    "# of your images (you may need to use more than one line of code)\n",
    "std_img_op = ...\n",
    "\n",
    "# Now calculate the standard deviation using your session\n",
    "std_img = sess.run(std_img_op)"
   ]
  },
  {
   "cell_type": "markdown",
   "metadata": {},
   "source": [
    "Don't change this section!"
   ]
  },
  {
   "cell_type": "code",
   "execution_count": null,
   "metadata": {
    "collapsed": true
   },
   "outputs": [],
   "source": [
    "# Then plot the resulting standard deviation image:\n",
    "# Make sure the std image is the right size!\n",
    "assert(std_img.shape == (100, 100) or std_img.shape == (100, 100, 3))\n",
    "plt.figure(figsize=(10, 10))\n",
    "plt.imshow(std_img / np.max(std_img))\n",
    "plt.imsave(arr=std_img, fname='std.png')"
   ]
  },
  {
   "cell_type": "markdown",
   "metadata": {},
   "source": [
    "Once you have plotted your dataset's standard deviation per pixel, what does it reveal about your dataset?  Like with the mean image, you should consider what is predictable and not predictable about this image."
   ]
  },
  {
   "cell_type": "markdown",
   "metadata": {},
   "source": [
    "<a name=\"part-four---sort-the-dataset\"></a>\n",
    "# Part Four - Sort the Dataset\n",
    "\n",
    "<a name=\"instructions-3\"></a>\n",
    "## Instructions\n",
    "Using tensorflow, apply some type of organization to the dataset. You could for instance sort your images based on the mean value of each image. To do this, you could calculate either the sum value (`tf.reduce_sum`) or the mean value (`tf.reduce_mean`) of each image in your dataset and then use those values, e.g. stored inside a variable `values` to sort your images using something like `tf.nn.top_k` and `sorted_imgs = np.array([imgs[idx_i] for idx_i in idxs])` prior to creating the montage image, `m = montage(sorted_imgs, \"sorted.png\")` and then include this image in your zip file as <b>sorted.png</b>\n",
    "\n",
    "<a name=\"code-3\"></a>\n",
    "## Code\n",
    "\n",
    "<h3><font color='red'>TODO! COMPLETE THIS SECTION!</font></h3>"
   ]
  },
  {
   "cell_type": "code",
   "execution_count": null,
   "metadata": {
    "collapsed": true
   },
   "outputs": [],
   "source": [
    "# Create a set of operations using tensorflow which could\n",
    "# provide you for instance the sum or mean value of every\n",
    "# image in your dataset:\n",
    "values = ...\n",
    "\n",
    "# Then create another operation which sorts those values\n",
    "# and then calculate the result:\n",
    "idxs_op = ...\n",
    "idxs = sess.run(idxs_op)\n",
    "\n",
    "# Then finally use the sorted indices to sort your images:\n",
    "sorted_imgs = np.array([imgs[idx_i] for idx_i in idxs])"
   ]
  },
  {
   "cell_type": "markdown",
   "metadata": {},
   "source": [
    "Don't change this section!"
   ]
  },
  {
   "cell_type": "code",
   "execution_count": null,
   "metadata": {
    "collapsed": true
   },
   "outputs": [],
   "source": [
    "# Then plot the resulting sorted dataset montage:\n",
    "# Make sure we have a 100 x 100 x 100 x 3 dimension array\n",
    "assert(sorted_imgs.shape == (100, 100, 100, 3))\n",
    "plt.figure(figsize=(10, 10))\n",
    "plt.imshow(montage(sorted_imgs, 'sorted.png'))"
   ]
  },
  {
   "cell_type": "markdown",
   "metadata": {},
   "source": [
    "What does your sorting reveal?  Could you imagine the same sorting over many more images reveal the thing your dataset sought to represent?  Or is it hidden within \"higher layers\", i.e., \"deeper features\" of the image?"
   ]
  },
  {
   "cell_type": "markdown",
   "metadata": {},
   "source": [
    "<a name=\"assignment-submission\"></a>\n",
    "# Assignment Submission\n",
    "\n",
    "Now that you've completed all 4 parts, we'll create a zip file of the current directory using the code below.  This code will make sure you have included this completed ipython notebook and the following files named exactly as:\n",
    "\n",
    "<pre>\n",
    "    session-1/\n",
    "      session-1.ipynb\n",
    "      dataset.png\n",
    "      mean.png\n",
    "      std.png\n",
    "      sorted.png\n",
    "      libs/\n",
    "        utils.py\n",
    "</pre>\n",
    "\n",
    "You'll then submit this zip file for your first assignment on Kadenze for \"Assignment 1: Datasets/Computing with Tensorflow\"!  If you have any questions, remember to reach out on the forums and connect with your peers or with me.\n",
    "\n",
    "<b>To get assessed, you'll need to be a premium student which is free for a month!</b>  If you aren't already enrolled as a student, register now at http://www.kadenze.com/ and join the #CADL community to see what your peers are doing! https://www.kadenze.com/courses/creative-applications-of-deep-learning-with-tensorflow/info\n",
    "\n",
    "Then remember to complete the remaining parts of Assignemnt 1 on Kadenze!:\n",
    "    * Participation Assessment: Comment on another student's open-ended arrangement (Part 4).  Think about what images they've used in their dataset and how the arrangement reflects what could be represented by that data.\n",
    "    * (Extra Credit): Forum Post - Find artists making use of machine learning to organize data or finding representations within large datasets."
   ]
  },
  {
   "cell_type": "code",
   "execution_count": null,
   "metadata": {
    "collapsed": true
   },
   "outputs": [],
   "source": [
    "build_submission('session-1.zip',\n",
    "                 ('dataset.png',\n",
    "                  'mean.png',\n",
    "                  'std.png',\n",
    "                  'sorted.png',\n",
    "                  'session-1.ipynb'))"
   ]
  }
 ],
 "metadata": {
  "kernelspec": {
   "display_name": "Python 3",
   "language": "python",
   "name": "python3"
  },
  "language_info": {
   "codemirror_mode": {
    "name": "ipython",
    "version": 3
   },
   "file_extension": ".py",
   "mimetype": "text/x-python",
   "name": "python",
   "nbconvert_exporter": "python",
   "pygments_lexer": "ipython3",
   "version": "3.4.0"
  }
 },
 "nbformat": 4,
 "nbformat_minor": 0
}
