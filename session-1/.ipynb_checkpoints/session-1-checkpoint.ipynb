{
 "cells": [
  {
   "cell_type": "markdown",
   "metadata": {},
   "source": [
    "# Session 1 - Introduction to Tensorflow"
   ]
  },
  {
   "cell_type": "markdown",
   "metadata": {},
   "source": [
    "<p class=\"lead\">\n",
    "Parag K. Mital  \n",
    "[Creative Applications of Deep Learning w/ Tensorflow](https://www.kadenze.com/courses/creative-applications-of-deep-learning-with-tensorflow/info)  \n",
    "Kadenze Academy  \n",
    "\\#CADL</p>"
   ]
  },
  {
   "cell_type": "markdown",
   "metadata": {},
   "source": [
    "<h1>Notebook</h1>"
   ]
  },
  {
   "cell_type": "markdown",
   "metadata": {},
   "source": [
    "Everything you will need to do will be inside of this notebook, and I've marked which cells you will need to edit by saying <b><font color='red'>\"TODO! COMPLETE THIS SECTION!\"</font></b>.  For you to work with this notebook, you'll either download the zip file from the resources section or clone the github repo (whichever you are more comfortable with), and then run notebook inside the same directory as wherever this file is located using the command line \"jupyter notebook\" or \"ipython notbeook\" (using Terminal on Unix/Linux/OSX, or Command Line/Shell/Powershell on Windows).  If you are unfamiliar with jupyter notebook, please visit this website for instructions:\n",
    "https://jupyter.readthedocs.io/en/latest/install.html\n",
    "\n",
    "Once you have launched notebook, this will launch a web browser with the contents of the zip files listed.  Click the file \"session-1.ipynb\" and this document will open in an interactive notebook, allowing you to \"run\" the cells, computing them using python, and edit the text inside the cells."
   ]
  },
  {
   "cell_type": "markdown",
   "metadata": {},
   "source": [
    "# Assignment Synopsis"
   ]
  },
  {
   "cell_type": "markdown",
   "metadata": {},
   "source": [
    "This first homework assignment will guide you through creating a small dataset of images.  For Part 1, you'll need to find 100 images and use the function I've provided to create a montage of your images, saving it to the file \"dataset.png\" (template code provided below).  You can load an existing dataset of images, find your own images, or perhaps create your own images using a creative process such as painting, photography, or something along those lines.  Each image must be shaped 100 x 100 pixels and there needs to be 100 images in total.  For Parts 2 and 3, you'll then need to calculate the mean and deviation of it using a tensorflow session.  For Part 4, you'll need to sort the entire dataset based on its color values or find another method of sorting them.  Finally, the last part will package everything for you in a zip file which you can upload to Kadenze to get assessed.  If you have any questions, be sure to enroll in the course and ask your peers in the \\#CADL community or me on the forums!  \n",
    "\n",
    "https://www.kadenze.com/courses/creative-applications-of-deep-learning-with-tensorflow/info  \n",
    "\n",
    "The following assignment breakdown gives more detailed instructions and includes template code for you to fill out.  Good luck!"
   ]
  },
  {
   "cell_type": "markdown",
   "metadata": {},
   "source": [
    "# Part One - Create a Small Dataset"
   ]
  },
  {
   "cell_type": "markdown",
   "metadata": {},
   "source": [
    "## Instructions\n",
    "\n",
    "Use Python, Numpy, and Matplotlib to load a dataset of 100 images and create a montage of the dataset as a 10 x 10 image using the function below. You'll need to make sure you call the function using a 4-d array of `N x H x W x C` dimensions, meaning every image will need to be the same size! You can load an existing dataset of images, find your own images, or perhaps create your own images using a creative process such as painting, photography, or something along those lines. Make sure you resize and/or crop your images so that they are 100 pixels x 100 pixels in height and width. Finally, make sure you only use 100 images of any dataset you create or use!  Once you have your 100 images loaded, make sure you use `montage` function to draw and save your dataset to the file <b>dataset.png</b>."
   ]
  },
  {
   "cell_type": "markdown",
   "metadata": {},
   "source": [
    "## Code"
   ]
  },
  {
   "cell_type": "markdown",
   "metadata": {},
   "source": [
    "This next section will just make sure you have the right version of python and the libraries that we'll be using.  Don't change the code here but make sure you \"run\" it (use \"shift+enter\")!"
   ]
  },
  {
   "cell_type": "code",
   "execution_count": 26,
   "metadata": {
    "collapsed": false
   },
   "outputs": [],
   "source": [
    "# First check the Python version\n",
    "import sys\n",
    "if sys.version_info < (3,4):\n",
    "    print('You are running an older version of Python!\\n\\n' \\\n",
    "          'You should consider updating to Python 3.4.0 or ' \\\n",
    "          'higher as the libraries built for this course ' \\\n",
    "          'have only been tested in Python 3.4 and higher.\\n')\n",
    "    print('Try installing the Python 3.5 version of anaconda '\n",
    "          'and then restart `jupyter notebook`:\\n' \\\n",
    "          'https://www.continuum.io/downloads\\n\\n')\n",
    "\n",
    "# Now get necessary libraries\n",
    "try:\n",
    "    import os\n",
    "    import numpy as np\n",
    "    import matplotlib.pyplot as plt\n",
    "    from skimage.transform import resize\n",
    "except ImportError:\n",
    "    print('You are missing some packages! ' \\\n",
    "          'We will try installing them before continuing!')\n",
    "    !pip3 install \"scikit-image>=0.11.3\" \"numpy>=1.11.0\" \"matplotlib>=1.5.1\"\n",
    "    import os\n",
    "    import numpy as np\n",
    "    import matplotlib.pyplot as plt\n",
    "    from skimage.transform import resize\n",
    "    print('Done!')"
   ]
  },
  {
   "cell_type": "code",
   "execution_count": null,
   "metadata": {
    "collapsed": true
   },
   "outputs": [],
   "source": [
    "# This cell includes the provided libraries from the zip file\n",
    "try:\n",
    "    from libs.utils import montage, imcrop_tosquare, build_submission\n",
    "except ImportError:\n",
    "    print(\"Make sure you have started notebook in the same directory\" +\n",
    "          \" as the provided zip file which includes the 'libs' folder\" +\n",
    "          \" and the file 'utils.py' inside of it.  You will NOT be able\"\n",
    "          \" to complete this assignment unless you restart jupyter\"\n",
    "          \" notebook inside the directory created by extracting\"\n",
    "          \" the zip file or cloning the github repo.\")"
   ]
  },
  {
   "cell_type": "code",
   "execution_count": null,
   "metadata": {
    "collapsed": false,
    "run_control": {
     "frozen": false,
     "read_only": true
    }
   },
   "outputs": [],
   "source": [
    "# We'll tell matplotlib to inline any drawn figures like so:\n",
    "%matplotlib inline"
   ]
  },
  {
   "cell_type": "markdown",
   "metadata": {},
   "source": [
    "Places your images in a folder such as `dirname = '/Users/Someone/Desktop/ImagesFromTheInternet'`.  We'll then use the `os` package to load them and crop/resize them to a standard size of 100 x 100 pixels."
   ]
  },
  {
   "cell_type": "markdown",
   "metadata": {},
   "source": [
    "<h3><font color='red'>TODO! COMPLETE THIS SECTION!</font></h3>"
   ]
  },
  {
   "cell_type": "code",
   "execution_count": null,
   "metadata": {
    "collapsed": false,
    "run_control": {
     "frozen": false,
     "read_only": false
    }
   },
   "outputs": [],
   "source": [
    "# You need to find 100 images from the web/create them yourself\n",
    "# then store them all in a single directory.\n",
    "# With all the images in a single directory, you can then\n",
    "# perform the following steps to create a 4-d array of:\n",
    "# N x H x W x C dimensions as 100 x 100 x 100 x 3.\n",
    "\n",
    "dirname = ...\n",
    "\n",
    "# Load every file in the provided directory\n",
    "filenames = [os.path.join(dirname, fname)\n",
    "             for fname in os.listdir(dirname)\n",
    "             if os.path.join(dirname, fname).endswith('.png')]\n",
    "\n",
    "# Make sure we have exactly 100 image files!\n",
    "filenames = filenames[:100]\n",
    "assert(len(filenames) == 100)\n",
    "\n",
    "# Read every filename as an RGB image\n",
    "imgs = [plt.imread(fname)[..., :3] for fname in filenames]\n",
    "\n",
    "# Crop every image to a square\n",
    "imgs = [imcrop_tosquare(img_i) for img_i in imgs]\n",
    "\n",
    "# Then resize the square image to 100 x 100 pixels\n",
    "imgs = [resize(img_i, (100, 100)) for img_i in imgs]\n",
    "\n",
    "# Finally make our list of 3-D images a 4-D array with the first dimension the number of images:\n",
    "imgs = np.array(imgs)"
   ]
  },
  {
   "cell_type": "markdown",
   "metadata": {},
   "source": [
    "Don't change this section!"
   ]
  },
  {
   "cell_type": "code",
   "execution_count": null,
   "metadata": {
    "collapsed": true,
    "run_control": {
     "frozen": false,
     "read_only": true
    }
   },
   "outputs": [],
   "source": [
    "# Plot the resulting dataset:\n",
    "# Make sure you \"run\" this cell after you create your `imgs` variable as a 4-D array!\n",
    "# Make sure we have a 100 x 100 x 100 x 3 dimension array\n",
    "assert(imgs.shape == (100, 100, 100, 3))\n",
    "plt.figure(figsize=(10, 10))\n",
    "plt.imshow(montage(imgs, saveto='dataset.png'))"
   ]
  },
  {
   "cell_type": "markdown",
   "metadata": {},
   "source": [
    "# Part Two - Compute the Mean"
   ]
  },
  {
   "cell_type": "markdown",
   "metadata": {},
   "source": [
    "## Instructions\n",
    "\n",
    "First use Tensorflow to define a session.  Then use Tensorflow to create an operation which takes your 4-d array and calculates the mean color image (100 x 100 x 3).  You'll then calculate the mean image by running the operation with your session (e.g. <code>sess.run(...)</code>).  Finally, plot the mean image, save it, and then include this image in your zip file as <b>mean.png</b>."
   ]
  },
  {
   "cell_type": "markdown",
   "metadata": {},
   "source": [
    "## Code"
   ]
  },
  {
   "cell_type": "code",
   "execution_count": null,
   "metadata": {
    "collapsed": true,
    "run_control": {
     "frozen": false,
     "read_only": true
    }
   },
   "outputs": [],
   "source": [
    "try:\n",
    "    import tensorflow as tf\n",
    "except ImportError:\n",
    "    print(\"You do not have tensorflow installed!\")\n",
    "    print(\"Follow the instructions on the following link\")\n",
    "    print(\"to install tensorflow before continuing:\")\n",
    "    print(\"\")\n",
    "    print(\"https://github.com/tensorflow/tensorflow/blob/master/tensorflow/g3doc/get_started/os_setup.md#pip-installation\")"
   ]
  },
  {
   "cell_type": "markdown",
   "metadata": {},
   "source": [
    "<h3><font color='red'>TODO! COMPLETE THIS SECTION!</font></h3>"
   ]
  },
  {
   "cell_type": "code",
   "execution_count": null,
   "metadata": {
    "collapsed": true,
    "run_control": {
     "frozen": false,
     "read_only": false
    }
   },
   "outputs": [],
   "source": [
    "# First create a session\n",
    "sess = ...\n",
    "\n",
    "# Now create an operation that will calculate the mean of your images\n",
    "mean_img_op = ...\n",
    "\n",
    "# And then run that operation using your session\n",
    "mean_img = sess.run(mean_img_op)"
   ]
  },
  {
   "cell_type": "markdown",
   "metadata": {},
   "source": [
    "Don't change this section!"
   ]
  },
  {
   "cell_type": "code",
   "execution_count": null,
   "metadata": {
    "collapsed": true,
    "run_control": {
     "frozen": false,
     "read_only": true
    }
   },
   "outputs": [],
   "source": [
    "# Then plot the resulting mean image:\n",
    "# Make sure the mean image is the right size!\n",
    "assert(mean_img.shape == (100, 100, 3))\n",
    "plt.figure(figsize=(10, 10))\n",
    "plt.imshow(mean_img)\n",
    "plt.imsave(arr=mean_img, fname='mean.png')"
   ]
  },
  {
   "cell_type": "markdown",
   "metadata": {},
   "source": [
    "# Part Three - Compute the Standard Deviation"
   ]
  },
  {
   "cell_type": "markdown",
   "metadata": {},
   "source": [
    "## Instructions\n",
    "\n",
    "Now use tensorflow to calculate the standard deviation and upload the standard deviation image averaged across color channels as a \"jet\" heatmap of the 100 images.  This will be a little more involved as there is no operation in tensorflow to do this for you.  However, you can do this by calculating the mean image of your dataset as a 4-D array.  To do this, you could write e.g.  `mean_img = tf.reduce_mean(images, reduction_indices=0, keep_dims=True)` to give you a `1 x H x W x C` dimension array calculated on the `N x H x W x C` images variable.  The reduction_indices parameter is saying to keep the 0th dimension.  This way, you can write `images - mean_img` to give you a `N x H x W x C` dimension variable, with every image in your images array having been subtracted by the `mean_img`.  If you calculate the square root of the sum of the squared differences of this resulting operation, you have your standard deviation!  \n",
    "  \n",
    "In summary, you'll need to write something like: `subtraction = images - tf.reduce_mean(images, reduction_indices=0, keep_dims=True)`, then reduce this operation using `tf.sqrt(tf.reduce_sum(subtraction * subtraction, reduction_indices=0))` to get your standard deviation then include this image in your zip file as <b>std.png</b>"
   ]
  },
  {
   "cell_type": "markdown",
   "metadata": {},
   "source": [
    "## Code"
   ]
  },
  {
   "cell_type": "markdown",
   "metadata": {},
   "source": [
    "<h3><font color='red'>TODO! COMPLETE THIS SECTION!</font></h3>"
   ]
  },
  {
   "cell_type": "code",
   "execution_count": null,
   "metadata": {
    "collapsed": true,
    "run_control": {
     "frozen": false,
     "read_only": false
    }
   },
   "outputs": [],
   "source": [
    "# Create a tensorflow operation to give you the standard deviation\n",
    "# of your images (you may need to use more than one line of code)\n",
    "std_img_op = ...\n",
    "\n",
    "# Now calculate the standard deviation using your session\n",
    "std_img = sess.run(std_img_op)"
   ]
  },
  {
   "cell_type": "markdown",
   "metadata": {},
   "source": [
    "Don't change this section!"
   ]
  },
  {
   "cell_type": "code",
   "execution_count": null,
   "metadata": {
    "collapsed": true,
    "run_control": {
     "frozen": false,
     "read_only": true
    }
   },
   "outputs": [],
   "source": [
    "# Then plot the resulting standard deviation image:\n",
    "# Make sure the std image is the right size!\n",
    "assert(std_img.shape == (100, 100) or std_img.shape == (100, 100, 3))\n",
    "plt.figure(figsize=(10, 10))\n",
    "plt.imshow(std_img / np.max(std_img))\n",
    "plt.imsave(arr=std_img, fname='std.png')"
   ]
  },
  {
   "cell_type": "markdown",
   "metadata": {},
   "source": [
    "# Part Four - Sort the Dataset"
   ]
  },
  {
   "cell_type": "markdown",
   "metadata": {},
   "source": [
    "## Instructions\n",
    "Using tensorflow, apply some type of organization to the dataset. You may want to sort your images based on their average value. To do this, you could calculate either the sum value or the mean value of each image in your dataset and then use those values, e.g. stored inside a variable `values` to sort your images using something like `tf.nn.top_k` and `sorted_imgs = np.array([imgs[idx_i] for idx_i in idxs])` prior to creating the montage image, `m = montage(sorted_imgs, \"sorted.png\")` and then include this image in your zip file as <b>sorted.png</b>"
   ]
  },
  {
   "cell_type": "markdown",
   "metadata": {},
   "source": [
    "## Code"
   ]
  },
  {
   "cell_type": "markdown",
   "metadata": {},
   "source": [
    "<h3><font color='red'>TODO! COMPLETE THIS SECTION!</font></h3>"
   ]
  },
  {
   "cell_type": "code",
   "execution_count": null,
   "metadata": {
    "collapsed": true,
    "run_control": {
     "frozen": false,
     "read_only": false
    }
   },
   "outputs": [],
   "source": [
    "# Create an operation using tensorflow which could\n",
    "# provide you for instance the sum or mean value\n",
    "# of every image in your dataset:\n",
    "values = ...\n",
    "\n",
    "# Then create another operation which sorts those values\n",
    "# and then calculate the result:\n",
    "idxs_op = ...\n",
    "idxs = sess.run(idxs_op)\n",
    "\n",
    "# Then finally use the sorted indices to sort your images:\n",
    "sorted_imgs = np.array([imgs[idx_i] for idx_i in idxs])"
   ]
  },
  {
   "cell_type": "markdown",
   "metadata": {},
   "source": [
    "Don't change this section!"
   ]
  },
  {
   "cell_type": "code",
   "execution_count": null,
   "metadata": {
    "collapsed": true,
    "run_control": {
     "frozen": false,
     "read_only": true
    }
   },
   "outputs": [],
   "source": [
    "# Then plot the resulting sorted dataset montage:\n",
    "# Make sure we have a 100 x 100 x 100 x 3 dimension array\n",
    "assert(sorted_imgs.shape == (100, 100, 100, 3))\n",
    "plt.figure(figsize=(10, 10))\n",
    "plt.imshow(montage(sorted_imgs, 'sorted.png'))"
   ]
  },
  {
   "cell_type": "markdown",
   "metadata": {},
   "source": [
    "# Assignment Submission"
   ]
  },
  {
   "cell_type": "markdown",
   "metadata": {},
   "source": [
    "After you've completed all 4 parts, create a zip file of the current directory using the code below.  This code will make sure you have included this completed ipython notebook and the following files named exactly as:\n",
    "\n",
    "<pre>\n",
    "    session-1/\n",
    "      session-1.ipynb\n",
    "      dataset.png\n",
    "      mean.png\n",
    "      std.png\n",
    "      sorted.png\n",
    "      libs/\n",
    "        utils.py\n",
    "</pre>\n",
    "    \n",
    "You'll then submit this zip file for your first assignment on Kadenze!  If you have any questions, remember to reach out on the forums and connect with your peers or with me.  \n",
    "\n",
    "To get assessed, you'll need to be a premium student which is free for a month and costs $10 p/m afterwards!  If you aren't already enrolled as a student, register now at http://www.kadenze.com/ and join the #CADL community to see what your peers are doing! https://www.kadenze.com/courses/creative-applications-of-deep-learning-with-tensorflow/info"
   ]
  },
  {
   "cell_type": "code",
   "execution_count": null,
   "metadata": {
    "collapsed": false
   },
   "outputs": [],
   "source": [
    "build_submission('session-1.zip', \n",
    "                 ('dataset.png',\n",
    "                  'mean.png',\n",
    "                  'std.png',\n",
    "                  'sorted.png',\n",
    "                  'session-1.ipynb'))"
   ]
  }
 ],
 "metadata": {
  "kernelspec": {
   "display_name": "Python 3",
   "language": "python",
   "name": "python3"
  },
  "language_info": {
   "codemirror_mode": {
    "name": "ipython",
    "version": 3
   },
   "file_extension": ".py",
   "mimetype": "text/x-python",
   "name": "python",
   "nbconvert_exporter": "python",
   "pygments_lexer": "ipython3",
   "version": "3.4.0"
  },
  "nav_menu": {},
  "toc": {
   "navigate_menu": true,
   "number_sections": true,
   "sideBar": true,
   "threshold": 6,
   "toc_cell": false,
   "toc_section_display": "block",
   "toc_window_display": false
  }
 },
 "nbformat": 4,
 "nbformat_minor": 0
}
